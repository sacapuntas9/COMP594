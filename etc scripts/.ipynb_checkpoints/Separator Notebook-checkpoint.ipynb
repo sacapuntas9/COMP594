{
 "cells": [
  {
   "cell_type": "code",
   "execution_count": 1,
   "metadata": {},
   "outputs": [],
   "source": [
    "import cv2\n",
    "import numpy as np\n",
    "import os\n",
    "import sys\n",
    "\n",
    "directorySeparator = '\\\\'\n",
    "\n",
    "\n",
    "inputDir = \"E:\\\\594_data\\\\for_ilastik\\\\Pixel_1_export\"\n",
    "\n",
    "outputDir = \"E:\\\\594_data\\\\for_ilastik\\\\Pixel_1_export\""
   ]
  },
  {
   "cell_type": "code",
   "execution_count": 3,
   "metadata": {},
   "outputs": [],
   "source": [
    "directory = os.fsencode(inputDir)\n",
    "\n",
    "for filename in os.listdir(directory):\n",
    "    file = os.fsdecode(filename)\n",
    "    if file.endswith(\".tiff\"): \n",
    "        image = cv2.imread(inputDir + directorySeparator + file, -1)\n",
    "        \n",
    "        imageMask = image\n",
    "\n",
    "        \n",
    "        h = image.shape[0]\n",
    "        w = image.shape[1]\n",
    "        \n",
    "        for y in range(0, h):\n",
    "            for x in range(0, w):\n",
    "                # create the masks\n",
    "                imageMask[y, x] = 255 if image[y, x] == 1 else 0\n",
    "\n",
    "        \n",
    "        cv2.imwrite(outputDir + directorySeparator + file,imageMask)\n",
    "\n",
    "        "
   ]
  },
  {
   "cell_type": "code",
   "execution_count": null,
   "metadata": {},
   "outputs": [],
   "source": []
  }
 ],
 "metadata": {
  "kernelspec": {
   "display_name": "Python 3",
   "language": "python",
   "name": "python3"
  },
  "language_info": {
   "codemirror_mode": {
    "name": "ipython",
    "version": 3
   },
   "file_extension": ".py",
   "mimetype": "text/x-python",
   "name": "python",
   "nbconvert_exporter": "python",
   "pygments_lexer": "ipython3",
   "version": "3.6.2"
  }
 },
 "nbformat": 4,
 "nbformat_minor": 2
}
