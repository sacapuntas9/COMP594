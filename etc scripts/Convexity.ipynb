{
 "cells": [
  {
   "cell_type": "code",
   "execution_count": 1,
   "metadata": {},
   "outputs": [],
   "source": [
    "import numpy as np\n",
    "import matplotlib.pyplot as plt\n",
    "import os\n",
    "import matplotlib.pyplot as plt\n",
    "import cv2 as cv2\n",
    "from skimage import data, color, img_as_ubyte\n",
    "from skimage.feature import canny\n",
    "from skimage.transform import hough_ellipse\n",
    "from skimage.draw import ellipse_perimeter\n",
    "from skimage import io\n",
    "\n",
    "\n",
    "\n",
    "directorySeparator = '\\\\'\n",
    "\n",
    "\n",
    "inputDir = \"E:\\\\594_data\\\\combined_ground_truth\\\\sandbox\\\\input\"\n",
    "outputDir = \"E:\\\\594_data\\\\combined_ground_truth\\\\sandbox\\\\output\"\n",
    "\n",
    "directory = os.fsencode(inputDir)"
   ]
  },
  {
   "cell_type": "code",
   "execution_count": 22,
   "metadata": {},
   "outputs": [],
   "source": [
    "\n",
    "for filename in os.listdir(directory):\n",
    "    file = os.fsdecode(filename)\n",
    "    if file.endswith(\".tif\"): \n",
    "        image = cv2.imread(inputDir + directorySeparator + file, -1)\n",
    "        image = (image/256).astype('uint8') #convert input to 8 bit\n",
    "        \n",
    "        ret1,otsu = cv2.threshold(image,0,255,cv2.THRESH_BINARY+cv2.THRESH_OTSU)\n",
    "        \n",
    "        image = otsu\n",
    "        \n",
    "        \n",
    "        cv2.imwrite(outputDir + directorySeparator + file,im_with_keypoints)\n",
    "      "
   ]
  },
  {
   "cell_type": "code",
   "execution_count": null,
   "metadata": {},
   "outputs": [],
   "source": []
  }
 ],
 "metadata": {
  "kernelspec": {
   "display_name": "Python 3",
   "language": "python",
   "name": "python3"
  },
  "language_info": {
   "codemirror_mode": {
    "name": "ipython",
    "version": 3
   },
   "file_extension": ".py",
   "mimetype": "text/x-python",
   "name": "python",
   "nbconvert_exporter": "python",
   "pygments_lexer": "ipython3",
   "version": "3.6.2"
  }
 },
 "nbformat": 4,
 "nbformat_minor": 2
}
