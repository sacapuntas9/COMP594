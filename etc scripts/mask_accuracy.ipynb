{
 "cells": [
  {
   "cell_type": "code",
   "execution_count": 9,
   "metadata": {},
   "outputs": [],
   "source": [
    "import cv2\n",
    "import numpy as np\n",
    "import os\n",
    "import sys\n",
    "from skimage.measure import compare_ssim as ssim\n",
    "from skimage.measure import compare_mse as mse\n",
    "from skimage.measure import compare_nrmse as nrmse\n",
    "from sklearn.metrics import f1_score\n",
    "\n",
    "directorySeparator = '\\\\'\n",
    "\n",
    "generatedMaskDir = \"E:\\\\594_data\\\\\\smoothmuscle_NN_Data\\\\test_holdout\\\\classified\" #\"E:\\\\594_data\\\\combined_ground_truth\\\\automated_masks\"\n",
    "groundTruthDir = \"E:\\\\594_data\\\\\\smoothmuscle_NN_Data\\\\test_holdout\\\\masks\"\n",
    "\n",
    "\n",
    "directoryMask = os.fsencode(generatedMaskDir)\n",
    "directoryTruth = os.fsencode(groundTruthDir)\n"
   ]
  },
  {
   "cell_type": "code",
   "execution_count": 10,
   "metadata": {},
   "outputs": [
    {
     "name": "stderr",
     "output_type": "stream",
     "text": [
      "c:\\users\\tyler\\appdata\\local\\programs\\python\\python36\\lib\\site-packages\\sklearn\\metrics\\classification.py:1137: UndefinedMetricWarning: F-score is ill-defined and being set to 0.0 due to no true samples.\n",
      "  'recall', 'true', average, warn_for)\n"
     ]
    },
    {
     "name": "stdout",
     "output_type": "stream",
     "text": [
      "MSE: 339.3333435058594\n",
      "SSIM: 0.9783118132640795\n",
      "NRMSE: 0.9325479560772532\n",
      "F-Score: 0.29641701286289174\n"
     ]
    }
   ],
   "source": [
    "MSEtotal=0\n",
    "NRMSEtotal = 0\n",
    "fileCounter=0\n",
    "SSIMtotal=0\n",
    "f1Total=0\n",
    "\n",
    "for filename in os.listdir(directoryMask):\n",
    "    file = os.fsdecode(filename)\n",
    "    if file.endswith(\".tif\"): \n",
    "        imageMask = cv2.imread(generatedMaskDir+ directorySeparator + file, -1)\n",
    "        imageTruth = cv2.imread(groundTruthDir+ directorySeparator + file, -1)\n",
    "        \n",
    "        m = mse(imageMask,imageTruth )\n",
    "        s = ssim(imageMask,imageTruth )\n",
    "        nrm = nrmse(imageMask,imageTruth )\n",
    "        f1 = f1_score(imageTruth,imageMask,average='micro')\n",
    "        \n",
    "        \n",
    "        MSEtotal += m\n",
    "        NRMSEtotal += nrm\n",
    "        SSIMtotal += s\n",
    "        f1Total += f1\n",
    "        fileCounter += 1\n",
    "\n",
    "structural_similarity = SSIMtotal / fileCounter\n",
    "mean_square_error = MSEtotal / fileCounter\n",
    "normalized_mean_square_error = NRMSEtotal / fileCounter\n",
    "f1_score_micro = f1Total / fileCounter\n",
    "\n",
    "\n",
    "print(\"MSE: \"+str(mean_square_error))\n",
    "print(\"SSIM: \"+str(structural_similarity))\n",
    "print(\"NRMSE: \"+str(normalized_mean_square_error))\n",
    "print(\"F-Score: \"+str(f1_score_micro))"
   ]
  },
  {
   "cell_type": "code",
   "execution_count": null,
   "metadata": {},
   "outputs": [],
   "source": []
  }
 ],
 "metadata": {
  "kernelspec": {
   "display_name": "Python 3",
   "language": "python",
   "name": "python3"
  },
  "language_info": {
   "codemirror_mode": {
    "name": "ipython",
    "version": 3
   },
   "file_extension": ".py",
   "mimetype": "text/x-python",
   "name": "python",
   "nbconvert_exporter": "python",
   "pygments_lexer": "ipython3",
   "version": "3.6.2"
  }
 },
 "nbformat": 4,
 "nbformat_minor": 2
}
