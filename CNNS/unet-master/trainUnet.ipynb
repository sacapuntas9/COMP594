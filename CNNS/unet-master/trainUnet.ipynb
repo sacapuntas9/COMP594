{
 "cells": [
  {
   "cell_type": "code",
   "execution_count": 1,
   "metadata": {},
   "outputs": [
    {
     "name": "stderr",
     "output_type": "stream",
     "text": [
      "c:\\users\\tyler\\appdata\\local\\programs\\python\\python36\\lib\\site-packages\\h5py\\__init__.py:36: FutureWarning: Conversion of the second argument of issubdtype from `float` to `np.floating` is deprecated. In future, it will be treated as `np.float64 == np.dtype(float).type`.\n",
      "  from ._conv import register_converters as _register_converters\n",
      "Using TensorFlow backend.\n"
     ]
    }
   ],
   "source": [
    "from model import *\n",
    "from data import *"
   ]
  },
  {
   "cell_type": "markdown",
   "metadata": {},
   "source": [
    "## Train your Unet with membrane data\n",
    "membrane data is in folder membrane/, it is a binary classification task.\n",
    "\n",
    "The input shape of image and mask are the same :(batch_size,rows,cols,channel = 1)"
   ]
  },
  {
   "cell_type": "markdown",
   "metadata": {},
   "source": [
    "### Train with data generator"
   ]
  },
  {
   "cell_type": "code",
   "execution_count": 4,
   "metadata": {},
   "outputs": [
    {
     "name": "stderr",
     "output_type": "stream",
     "text": [
      "C:\\Users\\Tyler\\Desktop\\COMP594\\CNNS\\unet-master\\model.py:34: UserWarning: The `merge` function is deprecated and will be removed after 08/2017. Use instead layers from `keras.layers.merge`, e.g. `add`, `concatenate`, etc.\n",
      "  merge6 = merge([drop4,up6], mode = 'concat', concat_axis = 3)\n",
      "c:\\users\\tyler\\appdata\\local\\programs\\python\\python36\\lib\\site-packages\\keras\\legacy\\layers.py:464: UserWarning: The `Merge` layer is deprecated and will be removed after 08/2017. Use instead layers from `keras.layers.merge`, e.g. `add`, `concatenate`, etc.\n",
      "  name=name)\n",
      "C:\\Users\\Tyler\\Desktop\\COMP594\\CNNS\\unet-master\\model.py:39: UserWarning: The `merge` function is deprecated and will be removed after 08/2017. Use instead layers from `keras.layers.merge`, e.g. `add`, `concatenate`, etc.\n",
      "  merge7 = merge([conv3,up7], mode = 'concat', concat_axis = 3)\n",
      "C:\\Users\\Tyler\\Desktop\\COMP594\\CNNS\\unet-master\\model.py:44: UserWarning: The `merge` function is deprecated and will be removed after 08/2017. Use instead layers from `keras.layers.merge`, e.g. `add`, `concatenate`, etc.\n",
      "  merge8 = merge([conv2,up8], mode = 'concat', concat_axis = 3)\n",
      "C:\\Users\\Tyler\\Desktop\\COMP594\\CNNS\\unet-master\\model.py:49: UserWarning: The `merge` function is deprecated and will be removed after 08/2017. Use instead layers from `keras.layers.merge`, e.g. `add`, `concatenate`, etc.\n",
      "  merge9 = merge([conv1,up9], mode = 'concat', concat_axis = 3)\n",
      "C:\\Users\\Tyler\\Desktop\\COMP594\\CNNS\\unet-master\\model.py:55: UserWarning: Update your `Model` call to the Keras 2 API: `Model(inputs=Tensor(\"in..., outputs=Tensor(\"co...)`\n",
      "  model = Model(input = inputs, output = conv10)\n"
     ]
    },
    {
     "name": "stdout",
     "output_type": "stream",
     "text": [
      "Epoch 1/5\n",
      "Found 111 images belonging to 1 classes.\n",
      "Found 111 images belonging to 1 classes.\n",
      "1999/2000 [============================>.] - ETA: 0s - loss: 0.0708 - acc: 0.9956\n",
      "Epoch 00001: loss improved from inf to 0.07090, saving model to unet_membrane.hdf5\n",
      "2000/2000 [==============================] - 431s 215ms/step - loss: 0.0709 - acc: 0.9956\n",
      "Epoch 2/5\n",
      "1999/2000 [============================>.] - ETA: 0s - loss: 0.0694 - acc: 0.9957\n",
      "Epoch 00002: loss improved from 0.07090 to 0.06942, saving model to unet_membrane.hdf5\n",
      "2000/2000 [==============================] - 429s 215ms/step - loss: 0.0694 - acc: 0.9957\n",
      "Epoch 3/5\n",
      "1999/2000 [============================>.] - ETA: 0s - loss: 0.0693 - acc: 0.9957\n",
      "Epoch 00003: loss improved from 0.06942 to 0.06927, saving model to unet_membrane.hdf5\n",
      "2000/2000 [==============================] - 426s 213ms/step - loss: 0.0693 - acc: 0.9957\n",
      "Epoch 4/5\n",
      "1999/2000 [============================>.] - ETA: 0s - loss: 0.0692 - acc: 0.9957\n",
      "Epoch 00004: loss improved from 0.06927 to 0.06927, saving model to unet_membrane.hdf5\n",
      "2000/2000 [==============================] - 421s 211ms/step - loss: 0.0692 - acc: 0.9957\n",
      "Epoch 5/5\n",
      "1999/2000 [============================>.] - ETA: 0s - loss: 0.0695 - acc: 0.9957\n",
      "Epoch 00005: loss did not improve\n",
      "2000/2000 [==============================] - 421s 211ms/step - loss: 0.0695 - acc: 0.9957\n"
     ]
    },
    {
     "data": {
      "text/plain": [
       "<keras.callbacks.History at 0x1bd96982e80>"
      ]
     },
     "execution_count": 4,
     "metadata": {},
     "output_type": "execute_result"
    }
   ],
   "source": [
    "data_gen_args = dict(rotation_range=0.2,\n",
    "                    width_shift_range=0.05,\n",
    "                    height_shift_range=0.05,\n",
    "                    shear_range=0.05,\n",
    "                    zoom_range=0.05,\n",
    "                    horizontal_flip=True,\n",
    "                    fill_mode='nearest')\n",
    "myGene = myGenerator = trainGenerator(2,\"E:\\\\594_data\\\\NeuralNetData\\\\Combined\",\"images\",\"masks_both\",data_gen_args,save_to_dir = None)\n",
    "model = unet()\n",
    "model_checkpoint = ModelCheckpoint('unet_membrane.hdf5', monitor='loss',verbose=1, save_best_only=True)\n",
    "model.fit_generator(myGene,steps_per_epoch=2000,epochs=5,callbacks=[model_checkpoint])"
   ]
  },
  {
   "cell_type": "markdown",
   "metadata": {},
   "source": [
    "### Train with npy file"
   ]
  },
  {
   "cell_type": "code",
   "execution_count": 5,
   "metadata": {},
   "outputs": [],
   "source": [
    "#imgs_train,imgs_mask_train = geneTrainNpy(\"data/membrane/train/aug/\",\"data/membrane/train/aug/\")\n",
    "#model.fit(imgs_train, imgs_mask_train, batch_size=2, nb_epoch=10, verbose=1,validation_split=0.2, shuffle=True, callbacks=[model_checkpoint])"
   ]
  },
  {
   "cell_type": "markdown",
   "metadata": {},
   "source": [
    "### test your model and save predicted results"
   ]
  },
  {
   "cell_type": "code",
   "execution_count": 13,
   "metadata": {},
   "outputs": [
    {
     "name": "stderr",
     "output_type": "stream",
     "text": [
      "C:\\Users\\Tyler\\Desktop\\COMP594\\CNNS\\unet-master\\model.py:34: UserWarning: The `merge` function is deprecated and will be removed after 08/2017. Use instead layers from `keras.layers.merge`, e.g. `add`, `concatenate`, etc.\n",
      "  merge6 = merge([drop4,up6], mode = 'concat', concat_axis = 3)\n",
      "c:\\users\\tyler\\appdata\\local\\programs\\python\\python36\\lib\\site-packages\\keras\\legacy\\layers.py:464: UserWarning: The `Merge` layer is deprecated and will be removed after 08/2017. Use instead layers from `keras.layers.merge`, e.g. `add`, `concatenate`, etc.\n",
      "  name=name)\n",
      "C:\\Users\\Tyler\\Desktop\\COMP594\\CNNS\\unet-master\\model.py:39: UserWarning: The `merge` function is deprecated and will be removed after 08/2017. Use instead layers from `keras.layers.merge`, e.g. `add`, `concatenate`, etc.\n",
      "  merge7 = merge([conv3,up7], mode = 'concat', concat_axis = 3)\n",
      "C:\\Users\\Tyler\\Desktop\\COMP594\\CNNS\\unet-master\\model.py:44: UserWarning: The `merge` function is deprecated and will be removed after 08/2017. Use instead layers from `keras.layers.merge`, e.g. `add`, `concatenate`, etc.\n",
      "  merge8 = merge([conv2,up8], mode = 'concat', concat_axis = 3)\n",
      "C:\\Users\\Tyler\\Desktop\\COMP594\\CNNS\\unet-master\\model.py:49: UserWarning: The `merge` function is deprecated and will be removed after 08/2017. Use instead layers from `keras.layers.merge`, e.g. `add`, `concatenate`, etc.\n",
      "  merge9 = merge([conv1,up9], mode = 'concat', concat_axis = 3)\n",
      "C:\\Users\\Tyler\\Desktop\\COMP594\\CNNS\\unet-master\\model.py:55: UserWarning: Update your `Model` call to the Keras 2 API: `Model(inputs=Tensor(\"in..., outputs=Tensor(\"co...)`\n",
      "  model = Model(input = inputs, output = conv10)\n",
      "c:\\users\\tyler\\appdata\\local\\programs\\python\\python36\\lib\\site-packages\\skimage\\transform\\_warps.py:84: UserWarning: The default mode, 'constant', will be changed to 'reflect' in skimage 0.15.\n",
      "  warn(\"The default mode, 'constant', will be changed to 'reflect' in \"\n"
     ]
    },
    {
     "name": "stdout",
     "output_type": "stream",
     "text": [
      "15/15 [==============================] - 1s 55ms/step\n"
     ]
    },
    {
     "name": "stderr",
     "output_type": "stream",
     "text": [
      "c:\\users\\tyler\\appdata\\local\\programs\\python\\python36\\lib\\site-packages\\skimage\\io\\_io.py:132: UserWarning: E:\\594_data\\NeuralNetData\\Combined\\test\\0_predict.png is a low contrast image\n",
      "  warn('%s is a low contrast image' % fname)\n",
      "c:\\users\\tyler\\appdata\\local\\programs\\python\\python36\\lib\\site-packages\\skimage\\util\\dtype.py:122: UserWarning: Possible precision loss when converting from float32 to uint16\n",
      "  .format(dtypeobj_in, dtypeobj_out))\n",
      "c:\\users\\tyler\\appdata\\local\\programs\\python\\python36\\lib\\site-packages\\skimage\\io\\_io.py:132: UserWarning: E:\\594_data\\NeuralNetData\\Combined\\test\\1_predict.png is a low contrast image\n",
      "  warn('%s is a low contrast image' % fname)\n",
      "c:\\users\\tyler\\appdata\\local\\programs\\python\\python36\\lib\\site-packages\\skimage\\io\\_io.py:132: UserWarning: E:\\594_data\\NeuralNetData\\Combined\\test\\2_predict.png is a low contrast image\n",
      "  warn('%s is a low contrast image' % fname)\n",
      "c:\\users\\tyler\\appdata\\local\\programs\\python\\python36\\lib\\site-packages\\skimage\\io\\_io.py:132: UserWarning: E:\\594_data\\NeuralNetData\\Combined\\test\\3_predict.png is a low contrast image\n",
      "  warn('%s is a low contrast image' % fname)\n",
      "c:\\users\\tyler\\appdata\\local\\programs\\python\\python36\\lib\\site-packages\\skimage\\io\\_io.py:132: UserWarning: E:\\594_data\\NeuralNetData\\Combined\\test\\4_predict.png is a low contrast image\n",
      "  warn('%s is a low contrast image' % fname)\n",
      "c:\\users\\tyler\\appdata\\local\\programs\\python\\python36\\lib\\site-packages\\skimage\\io\\_io.py:132: UserWarning: E:\\594_data\\NeuralNetData\\Combined\\test\\5_predict.png is a low contrast image\n",
      "  warn('%s is a low contrast image' % fname)\n",
      "c:\\users\\tyler\\appdata\\local\\programs\\python\\python36\\lib\\site-packages\\skimage\\io\\_io.py:132: UserWarning: E:\\594_data\\NeuralNetData\\Combined\\test\\6_predict.png is a low contrast image\n",
      "  warn('%s is a low contrast image' % fname)\n",
      "c:\\users\\tyler\\appdata\\local\\programs\\python\\python36\\lib\\site-packages\\skimage\\io\\_io.py:132: UserWarning: E:\\594_data\\NeuralNetData\\Combined\\test\\7_predict.png is a low contrast image\n",
      "  warn('%s is a low contrast image' % fname)\n",
      "c:\\users\\tyler\\appdata\\local\\programs\\python\\python36\\lib\\site-packages\\skimage\\io\\_io.py:132: UserWarning: E:\\594_data\\NeuralNetData\\Combined\\test\\8_predict.png is a low contrast image\n",
      "  warn('%s is a low contrast image' % fname)\n",
      "c:\\users\\tyler\\appdata\\local\\programs\\python\\python36\\lib\\site-packages\\skimage\\io\\_io.py:132: UserWarning: E:\\594_data\\NeuralNetData\\Combined\\test\\9_predict.png is a low contrast image\n",
      "  warn('%s is a low contrast image' % fname)\n",
      "c:\\users\\tyler\\appdata\\local\\programs\\python\\python36\\lib\\site-packages\\skimage\\io\\_io.py:132: UserWarning: E:\\594_data\\NeuralNetData\\Combined\\test\\10_predict.png is a low contrast image\n",
      "  warn('%s is a low contrast image' % fname)\n",
      "c:\\users\\tyler\\appdata\\local\\programs\\python\\python36\\lib\\site-packages\\skimage\\io\\_io.py:132: UserWarning: E:\\594_data\\NeuralNetData\\Combined\\test\\11_predict.png is a low contrast image\n",
      "  warn('%s is a low contrast image' % fname)\n",
      "c:\\users\\tyler\\appdata\\local\\programs\\python\\python36\\lib\\site-packages\\skimage\\io\\_io.py:132: UserWarning: E:\\594_data\\NeuralNetData\\Combined\\test\\12_predict.png is a low contrast image\n",
      "  warn('%s is a low contrast image' % fname)\n",
      "c:\\users\\tyler\\appdata\\local\\programs\\python\\python36\\lib\\site-packages\\skimage\\io\\_io.py:132: UserWarning: E:\\594_data\\NeuralNetData\\Combined\\test\\13_predict.png is a low contrast image\n",
      "  warn('%s is a low contrast image' % fname)\n",
      "c:\\users\\tyler\\appdata\\local\\programs\\python\\python36\\lib\\site-packages\\skimage\\io\\_io.py:132: UserWarning: E:\\594_data\\NeuralNetData\\Combined\\test\\14_predict.png is a low contrast image\n",
      "  warn('%s is a low contrast image' % fname)\n"
     ]
    }
   ],
   "source": [
    "testGene = testGenerator(\"E:\\\\594_data\\\\NeuralNetData\\\\Combined\\\\test\",15)\n",
    "model = unet()\n",
    "model.load_weights(\"unet_membrane.hdf5\")\n",
    "results = model.predict_generator(testGene,15,verbose=1)\n",
    "saveResult(\"E:\\\\594_data\\\\NeuralNetData\\\\Combined\\\\test\",results)"
   ]
  },
  {
   "cell_type": "code",
   "execution_count": null,
   "metadata": {},
   "outputs": [],
   "source": []
  }
 ],
 "metadata": {
  "kernelspec": {
   "display_name": "Python 3",
   "language": "python",
   "name": "python3"
  },
  "language_info": {
   "codemirror_mode": {
    "name": "ipython",
    "version": 3
   },
   "file_extension": ".py",
   "mimetype": "text/x-python",
   "name": "python",
   "nbconvert_exporter": "python",
   "pygments_lexer": "ipython3",
   "version": "3.6.2"
  }
 },
 "nbformat": 4,
 "nbformat_minor": 2
}
