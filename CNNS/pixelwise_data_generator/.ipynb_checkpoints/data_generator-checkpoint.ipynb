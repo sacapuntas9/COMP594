{
 "cells": [
  {
   "cell_type": "code",
   "execution_count": 50,
   "metadata": {},
   "outputs": [],
   "source": [
    "import cv2\n",
    "import random, os\n",
    "import numpy as np\n",
    "\n",
    "directorySeparator = \"\\\\\"\n",
    "\n",
    "imageDir = \"E:\\\\594_data\\\\custom_NN_Data\\\\images\"\n",
    "maskDir = \"E:\\\\594_data\\\\custom_NN_Data\\\\masks_both\"\n",
    "directory = \"E:\\\\594_data\\\\custom_NN_Data\""
   ]
  },
  {
   "cell_type": "code",
   "execution_count": 51,
   "metadata": {},
   "outputs": [
    {
     "name": "stdout",
     "output_type": "stream",
     "text": [
      "46\n"
     ]
    }
   ],
   "source": [
    "dataNumber= 100 #85000\n",
    "positiveDataCounter=0\n",
    "negativeDataCounter=0\n",
    "window_size = 93\n",
    "middle = int(window_size / 2)\n",
    "\n",
    "print(middle)\n"
   ]
  },
  {
   "cell_type": "code",
   "execution_count": 49,
   "metadata": {},
   "outputs": [],
   "source": [
    "#generate 85,000 random 92x92 slices and save to negative directory. Save 10,000 of them to valid instead.\n",
    "\n",
    "while (negativeDataCounter < dataNumber):\n",
    "    #generate 5 random images from each random file\n",
    "    \n",
    "    random_filename = random.choice(os.listdir(imageDir)) \n",
    "    \n",
    "    img = cv2.imread(imageDir+directorySeparator+random_filename,-1)\n",
    "    img = (img/256).astype('uint8')\n",
    "    mask = cv2.imread(maskDir+directorySeparator+random_filename,-1)\n",
    "    height, width = img.shape\n",
    "    \n",
    "    #the following creates a mirrored image with the edges mirrored using a size window_size\n",
    "\n",
    "    newImg = np.zeros((height+(window_size*2),width+(window_size*2)), np.uint8)\n",
    "    for h in range(height):\n",
    "        for w in range(width):\n",
    "            newImg[h+window_size,w+window_size] = img[h,w]\n",
    "\n",
    "    for w in range(window_size):\n",
    "        for h in range(height):\n",
    "            newImg[h+window_size,w]=img[h,window_size-1-w]\n",
    "            newImg[h+window_size,width+(2*window_size)-1-w]=img[h,width-(window_size-w)]\n",
    "\n",
    "    for h in range(window_size):\n",
    "        for w in range(width):\n",
    "            newImg[h,w+window_size]=img[window_size-1-h,w]\n",
    "            newImg[height+(2*window_size)-1-h,w+window_size]=img[height-(window_size-h),w]\n",
    "\n",
    "\n",
    "    \n",
    "            #generates the 5 random masks\n",
    "    for i in range(5):\n",
    "        randHeight = random.randint(0,height-1)\n",
    "        randWidth = random.randint(0,width-1)\n",
    "\n",
    "        while(mask[randHeight,randWidth] == 255): #calculates a random pixel not equal to 255\n",
    "            randHeight = random.randint(0,height-1)\n",
    "            randWidth = random.randint(0,width-1)\n",
    "\n",
    "        crop_img = newImg[(randHeight+window_size-middle-1):(randHeight+window_size+middle-1), (randWidth+window_size-middle-1):(randWidth+window_size+middle-1)]\n",
    "         \n",
    "        if (random.randint(0,100) < 12):\n",
    "            cv2.imwrite(directory + directorySeparator + \"valid\"+ directorySeparator + \"noCell\"+ directorySeparator + str(negativeDataCounter)+\".png\",crop_img)\n",
    "            cv2.imwrite(directory + directorySeparator +\"XD.png\",newImg)\n",
    "        else:\n",
    "            cv2.imwrite(directory + directorySeparator + \"train\"+ directorySeparator + \"noCell\"+ directorySeparator + str(negativeDataCounter)+\".png\",crop_img)\n",
    "        negativeDataCounter = negativeDataCounter + 1\n"
   ]
  },
  {
   "cell_type": "code",
   "execution_count": 52,
   "metadata": {},
   "outputs": [
    {
     "ename": "KeyboardInterrupt",
     "evalue": "",
     "output_type": "error",
     "traceback": [
      "\u001b[1;31m---------------------------------------------------------------------------\u001b[0m",
      "\u001b[1;31mKeyboardInterrupt\u001b[0m                         Traceback (most recent call last)",
      "\u001b[1;32m<ipython-input-52-a3e358835ef7>\u001b[0m in \u001b[0;36m<module>\u001b[1;34m()\u001b[0m\n\u001b[0;32m     36\u001b[0m                         \u001b[0mcv2\u001b[0m\u001b[1;33m.\u001b[0m\u001b[0mimwrite\u001b[0m\u001b[1;33m(\u001b[0m\u001b[0mdirectory\u001b[0m \u001b[1;33m+\u001b[0m \u001b[0mdirectorySeparator\u001b[0m \u001b[1;33m+\u001b[0m \u001b[1;34m\"valid\"\u001b[0m\u001b[1;33m+\u001b[0m \u001b[0mdirectorySeparator\u001b[0m \u001b[1;33m+\u001b[0m \u001b[1;34m\"hasCell\"\u001b[0m\u001b[1;33m+\u001b[0m \u001b[0mdirectorySeparator\u001b[0m \u001b[1;33m+\u001b[0m \u001b[0mstr\u001b[0m\u001b[1;33m(\u001b[0m\u001b[0mpositiveDataCounter\u001b[0m\u001b[1;33m)\u001b[0m\u001b[1;33m+\u001b[0m\u001b[1;34m\".png\"\u001b[0m\u001b[1;33m,\u001b[0m\u001b[0mcrop_img\u001b[0m\u001b[1;33m)\u001b[0m\u001b[1;33m\u001b[0m\u001b[0m\n\u001b[0;32m     37\u001b[0m                     \u001b[1;32melse\u001b[0m\u001b[1;33m:\u001b[0m\u001b[1;33m\u001b[0m\u001b[0m\n\u001b[1;32m---> 38\u001b[1;33m                         \u001b[0mcv2\u001b[0m\u001b[1;33m.\u001b[0m\u001b[0mimwrite\u001b[0m\u001b[1;33m(\u001b[0m\u001b[0mdirectory\u001b[0m \u001b[1;33m+\u001b[0m \u001b[0mdirectorySeparator\u001b[0m \u001b[1;33m+\u001b[0m \u001b[1;34m\"train\"\u001b[0m\u001b[1;33m+\u001b[0m \u001b[0mdirectorySeparator\u001b[0m \u001b[1;33m+\u001b[0m \u001b[1;34m\"hasCell\"\u001b[0m\u001b[1;33m+\u001b[0m \u001b[0mdirectorySeparator\u001b[0m \u001b[1;33m+\u001b[0m \u001b[0mstr\u001b[0m\u001b[1;33m(\u001b[0m\u001b[0mpositiveDataCounter\u001b[0m\u001b[1;33m)\u001b[0m\u001b[1;33m+\u001b[0m\u001b[1;34m\".png\"\u001b[0m\u001b[1;33m,\u001b[0m\u001b[0mcrop_img\u001b[0m\u001b[1;33m)\u001b[0m\u001b[1;33m\u001b[0m\u001b[0m\n\u001b[0m\u001b[0;32m     39\u001b[0m                     \u001b[0mpositiveDataCounter\u001b[0m \u001b[1;33m=\u001b[0m \u001b[0mpositiveDataCounter\u001b[0m \u001b[1;33m+\u001b[0m \u001b[1;36m1\u001b[0m\u001b[1;33m\u001b[0m\u001b[0m\n\u001b[0;32m     40\u001b[0m \u001b[1;33m\u001b[0m\u001b[0m\n",
      "\u001b[1;31mKeyboardInterrupt\u001b[0m: "
     ]
    }
   ],
   "source": [
    "#generate 85,000 92x92 slices and save to positive directory. Save 10,000 of them to valid instead.\n",
    "\n",
    "for filename in os.listdir(imageDir):\n",
    "    if filename.endswith(\".tif\"): \n",
    "\n",
    "        img = cv2.imread(imageDir+directorySeparator+filename,-1)\n",
    "        img = (img/256).astype('uint8')\n",
    "        mask = cv2.imread(maskDir+directorySeparator+filename,-1)\n",
    "        height, width = img.shape\n",
    "\n",
    "        #the following creates a mirrored image with the edges mirrored using a size window_size\n",
    "\n",
    "        newImg = np.zeros((height+(window_size*2),width+(window_size*2)), np.uint8)\n",
    "        for h in range(height):\n",
    "            for w in range(width):\n",
    "                newImg[h+window_size,w+window_size] = img[h,w]\n",
    "\n",
    "        for w in range(window_size):\n",
    "            for h in range(height):\n",
    "                newImg[h+window_size,w]=img[h,window_size-1-w]\n",
    "                newImg[h+window_size,width+(2*window_size)-1-w]=img[h,width-(window_size-w)]\n",
    "\n",
    "        for h in range(window_size):\n",
    "            for w in range(width):\n",
    "                newImg[h,w+window_size]=img[window_size-1-h,w]\n",
    "                newImg[height+(2*window_size)-1-h,w+window_size]=img[height-(window_size-h),w]\n",
    "\n",
    "\n",
    "                #iterates through every positive pixel and makes a mask with it\n",
    "        for h in range(height):\n",
    "            for w in range(width):\n",
    "                if (mask[h,w] == 255):\n",
    "                    crop_img = newImg[(h+window_size-middle):(h+window_size+middle+1), (w+window_size-middle):(w+window_size+middle+1)]\n",
    "\n",
    "                    if (random.randint(0,100) < 12):\n",
    "                        cv2.imwrite(directory + directorySeparator + \"valid\"+ directorySeparator + \"hasCell\"+ directorySeparator + str(positiveDataCounter)+\".png\",crop_img)\n",
    "                    else:\n",
    "                        cv2.imwrite(directory + directorySeparator + \"train\"+ directorySeparator + \"hasCell\"+ directorySeparator + str(positiveDataCounter)+\".png\",crop_img)\n",
    "                    positiveDataCounter = positiveDataCounter + 1\n",
    "\n",
    "\n",
    "\n",
    "\n"
   ]
  },
  {
   "cell_type": "code",
   "execution_count": null,
   "metadata": {},
   "outputs": [],
   "source": []
  }
 ],
 "metadata": {
  "kernelspec": {
   "display_name": "Python 3",
   "language": "python",
   "name": "python3"
  },
  "language_info": {
   "codemirror_mode": {
    "name": "ipython",
    "version": 3
   },
   "file_extension": ".py",
   "mimetype": "text/x-python",
   "name": "python",
   "nbconvert_exporter": "python",
   "pygments_lexer": "ipython3",
   "version": "3.6.2"
  }
 },
 "nbformat": 4,
 "nbformat_minor": 2
}
