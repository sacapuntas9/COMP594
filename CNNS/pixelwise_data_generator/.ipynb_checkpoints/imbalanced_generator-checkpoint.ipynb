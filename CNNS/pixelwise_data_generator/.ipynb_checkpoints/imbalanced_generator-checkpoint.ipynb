{
 "cells": [
  {
   "cell_type": "code",
   "execution_count": 1,
   "metadata": {},
   "outputs": [],
   "source": [
    "import cv2\n",
    "import random, os\n",
    "import numpy as np\n",
    "\n",
    "directorySeparator = \"\\\\\"\n",
    "\n",
    "imageDir = \"E:\\\\594_data\\\\imbalanced_Pixelwise_NN_Data\\\\images\"\n",
    "maskDir = \"E:\\\\594_data\\\\imbalanced_Pixelwise_NN_Data\\\\masks_both\"\n",
    "directory = \"E:\\\\594_data\\\\imbalanced_Pixelwise_NN_Data\""
   ]
  },
  {
   "cell_type": "code",
   "execution_count": 2,
   "metadata": {},
   "outputs": [],
   "source": [
    "num_total_images = 300_000\n",
    "current_num_images = 0\n",
    "\n",
    "window_size = 93\n",
    "middle = int(window_size / 2)"
   ]
  },
  {
   "cell_type": "code",
   "execution_count": null,
   "metadata": {},
   "outputs": [],
   "source": [
    "while current_num_images < num_total_images:\n",
    "    filename = random.choice(os.listdir(imageDir)) #choose random image from images\n",
    "    \n",
    "    if filename.endswith(\".tif\"): \n",
    "        img = cv2.imread(imageDir+directorySeparator+filename,-1)\n",
    "        img = (img/256).astype('uint8')\n",
    "        mask = cv2.imread(maskDir+directorySeparator+filename,-1)\n",
    "        height, width = img.shape\n",
    "\n",
    "        #the following creates a mirrored image with the edges mirrored using a size window_size\n",
    "\n",
    "        newImg = np.zeros((height+(window_size*2),width+(window_size*2)), np.uint8)\n",
    "        for h in range(height):\n",
    "            for w in range(width):\n",
    "                newImg[h+window_size,w+window_size] = img[h,w]\n",
    "\n",
    "        for w in range(window_size):\n",
    "            for h in range(height):\n",
    "                newImg[h+window_size,w]=img[h,window_size-1-w]\n",
    "                newImg[h+window_size,width+(2*window_size)-1-w]=img[h,width-(window_size-w)]\n",
    "\n",
    "        for h in range(window_size):\n",
    "            for w in range(width):\n",
    "                newImg[h,w+window_size]=img[window_size-1-h,w]\n",
    "                newImg[height+(2*window_size)-1-h,w+window_size]=img[height-(window_size-h),w]\n",
    "            \n",
    "        #generates the 10 random masks\n",
    "        for i in range(10):\n",
    "            cellularity = \"noCell\"\n",
    "            randHeight = random.randint(0,height-1)\n",
    "            randWidth = random.randint(0,width-1)\n",
    "\n",
    "            crop_img = newImg[(randHeight+window_size-middle):(randHeight+window_size+middle+1), (randWidth+window_size-middle):(randWidth+window_size+middle+1)]\n",
    "                \n",
    "            if (mask[randHeight,randWidth] == 255):\n",
    "                cellularity = \"hasCell\"\n",
    "                \n",
    "            if (random.randint(0,100) < 12):\n",
    "                cv2.imwrite(directory + directorySeparator + \"valid\"+ directorySeparator + cellularity+ directorySeparator + str(current_num_images)+\".png\",crop_img)\n",
    "            else:\n",
    "                cv2.imwrite(directory + directorySeparator + \"train\"+ directorySeparator + cellularity+ directorySeparator + str(current_num_images)+\".png\",crop_img)\n",
    "            \n",
    "            current_num_images = current_num_images + 1"
   ]
  },
  {
   "cell_type": "code",
   "execution_count": null,
   "metadata": {},
   "outputs": [],
   "source": []
  }
 ],
 "metadata": {
  "kernelspec": {
   "display_name": "Python 3",
   "language": "python",
   "name": "python3"
  },
  "language_info": {
   "codemirror_mode": {
    "name": "ipython",
    "version": 3
   },
   "file_extension": ".py",
   "mimetype": "text/x-python",
   "name": "python",
   "nbconvert_exporter": "python",
   "pygments_lexer": "ipython3",
   "version": "3.6.2"
  }
 },
 "nbformat": 4,
 "nbformat_minor": 2
}
