{
 "cells": [
  {
   "cell_type": "code",
   "execution_count": 43,
   "metadata": {},
   "outputs": [],
   "source": [
    "import cv2\n",
    "import random, os\n",
    "import numpy as np\n",
    "\n",
    "directorySeparator = \"\\\\\"\n",
    "\n",
    "imageDir = \"E:\\\\594_data\\\\combined_ground_truth\\\\images\"\n",
    "maskDir = \"E:\\\\594_data\\\\combined_ground_truth\\\\masks_both\"\n",
    "outputImages = \"C:\\\\Users\\\\Tyler\\\\Desktop\\\\COMP594\\\\CNNS\\\\pixelwise-prealpha\\\\data-generator-raw\\\\data-example\\\\images\"\n",
    "outputMasks = \"C:\\\\Users\\\\Tyler\\\\Desktop\\\\COMP594\\\\CNNS\\\\pixelwise-prealpha\\\\data-generator-raw\\\\data-example\\\\masks\"\n",
    "window_size = 11\n",
    "middlePixel = 5\n",
    "dataNumber = 50"
   ]
  },
  {
   "cell_type": "code",
   "execution_count": 1,
   "metadata": {},
   "outputs": [
    {
     "ename": "NameError",
     "evalue": "name 'dataNumber' is not defined",
     "output_type": "error",
     "traceback": [
      "\u001b[1;31m---------------------------------------------------------------------------\u001b[0m",
      "\u001b[1;31mNameError\u001b[0m                                 Traceback (most recent call last)",
      "\u001b[1;32m<ipython-input-1-4bcb275205ac>\u001b[0m in \u001b[0;36m<module>\u001b[1;34m()\u001b[0m\n\u001b[0;32m      3\u001b[0m \u001b[1;33m\u001b[0m\u001b[0m\n\u001b[0;32m      4\u001b[0m \u001b[1;33m\u001b[0m\u001b[0m\n\u001b[1;32m----> 5\u001b[1;33m \u001b[1;32mwhile\u001b[0m \u001b[1;33m(\u001b[0m\u001b[0mpositiveDataCounter\u001b[0m \u001b[1;33m<\u001b[0m \u001b[0mdataNumber\u001b[0m\u001b[1;33m)\u001b[0m \u001b[1;32mor\u001b[0m \u001b[1;33m(\u001b[0m\u001b[0mnegativeDataCounter\u001b[0m \u001b[1;33m<\u001b[0m \u001b[0mdataNumber\u001b[0m\u001b[1;33m)\u001b[0m\u001b[1;33m:\u001b[0m\u001b[1;33m\u001b[0m\u001b[0m\n\u001b[0m\u001b[0;32m      6\u001b[0m \u001b[1;33m\u001b[0m\u001b[0m\n\u001b[0;32m      7\u001b[0m     random_filename = random.choice([\n",
      "\u001b[1;31mNameError\u001b[0m: name 'dataNumber' is not defined"
     ]
    }
   ],
   "source": [
    "positiveDataCounter = 0  #used to generate dataNumber of positive classified images\n",
    "negativeDataCounter = 0 #used to generate dataNumber of negative classified images\n",
    "\n",
    "\n",
    "while (positiveDataCounter < dataNumber) or (negativeDataCounter < dataNumber):\n",
    "    \n",
    "    random_filename = random.choice([\n",
    "        x for x in os.listdir(imageDir)\n",
    "        if os.path.isfile(os.path.join(path, x))\n",
    "    ])\n",
    "    \n",
    "\n",
    "    \n",
    "    img = cv2.imread(imageDir+directorySeparator+random_filename,-1)\n",
    "    mask = cv2.imread(maskDir+directorySeparator+random_filename,-1)\n",
    "    height, width = img.shape\n",
    "    \n",
    "    newImg = np.zeroes((height,width) np.uint8)\n",
    "    newMask = np.zeroes((height,width) np.uint8)\n",
    "    \n",
    "    \n",
    "    randHeight = random.randint(0,height-1)\n",
    "    randWidth = random.randint(0,width-1)\n",
    "    \n",
    "    while negativeDataCounter == dataNumber and positiveDataCounter != dataNumber and mask[randHeight+middlePixel,randWidth+middlePixel] == 0 and (randHeight) < height-1 and (randWidth) < width-1:\n",
    "        randHeight = randHeight + 1\n",
    "        randWidth = randWidth + 1\n",
    "    \n",
    "\n",
    "    if positiveDataCounter < dataNumber and mask[randHeight+middlePixel,randWidth+middlePixel] == 255:\n",
    "        crop_img = img[randHeight:randHeight+window_size, randWidth:randWidth+window_size]\n",
    "        cv2.imwrite(outputImages + directorySeparator + \"YES\"+str(positiveDataCounter)+\".tif\",crop_img) \n",
    "        crop_mask = mask[randHeight:randHeight+window_size, randWidth:randWidth+window_size]\n",
    "        cv2.imwrite(outputMasks + directorySeparator + \"YES\"+str(positiveDataCounter)+\".tif\",crop_mask)\n",
    "        positiveDataCounter = positiveDataCounter + 1\n",
    "    \n",
    "    if negativeDataCounter < dataNumber and mask[randHeight+middlePixel,randWidth+middlePixel] == 0:\n",
    "        crop_img = img[randHeight:randHeight+window_size, randWidth:randWidth+window_size]\n",
    "        cv2.imwrite(outputImages + directorySeparator + \"NO\"+str(negativeDataCounter)+\".tif\",crop_img)\n",
    "        crop_mask = mask[randHeight:randHeight+window_size, randWidth:randWidth+window_size]\n",
    "        cv2.imwrite(outputMasks + directorySeparator + \"NO\"+str(negativeDataCounter)+\".tif\",crop_mask)\n",
    "        negativeDataCounter = negativeDataCounter + 1\n",
    "    \n",
    "   \n",
    "   \n",
    "         \n",
    "    \n",
    "   "
   ]
  },
  {
   "cell_type": "code",
   "execution_count": null,
   "metadata": {},
   "outputs": [],
   "source": [
    "\n"
   ]
  }
 ],
 "metadata": {
  "kernelspec": {
   "display_name": "Python 3",
   "language": "python",
   "name": "python3"
  },
  "language_info": {
   "codemirror_mode": {
    "name": "ipython",
    "version": 3
   },
   "file_extension": ".py",
   "mimetype": "text/x-python",
   "name": "python",
   "nbconvert_exporter": "python",
   "pygments_lexer": "ipython3",
   "version": "3.6.2"
  }
 },
 "nbformat": 4,
 "nbformat_minor": 2
}
