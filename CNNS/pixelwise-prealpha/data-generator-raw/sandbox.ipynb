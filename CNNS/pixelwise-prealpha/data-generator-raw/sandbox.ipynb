{
 "cells": [
  {
   "cell_type": "code",
   "execution_count": 21,
   "metadata": {},
   "outputs": [],
   "source": [
    "import cv2\n",
    "import random, os\n",
    "import numpy as np\n",
    "\n",
    "directorySeparator = \"\\\\\""
   ]
  },
  {
   "cell_type": "code",
   "execution_count": 48,
   "metadata": {},
   "outputs": [
    {
     "data": {
      "text/plain": [
       "True"
      ]
     },
     "execution_count": 48,
     "metadata": {},
     "output_type": "execute_result"
    }
   ],
   "source": [
    "mask = cv2.imread(\"lena512.bmp\",-1)\n",
    "height, width = mask.shape\n",
    "    \n",
    "window_size = 50\n",
    "\n",
    "#the following creates a mirrored image with the edges mirrored using a size window_size\n",
    "\n",
    "newMask = np.zeros((height+(window_size*2),width+(window_size*2)), np.uint8)\n",
    "for h in range(height):\n",
    "    for w in range(width):\n",
    "        newMask[h+window_size,w+window_size] = mask[h,w]\n",
    "       \n",
    "for w in range(window_size):\n",
    "    for h in range(height):\n",
    "        newMask[h+window_size,w]=mask[h,window_size-1-w]\n",
    "        newMask[h+window_size,width+(2*window_size)-1-w]=mask[h,width-(window_size-w)]\n",
    "        \n",
    "for h in range(window_size):\n",
    "    for w in range(width):\n",
    "        newMask[h,w+window_size]=mask[window_size-1-h,w]\n",
    "        newMask[height+(2*window_size)-1-h,w+window_size]=mask[height-(window_size-h),w]\n",
    "            \n",
    "\n",
    "            \n",
    "\n",
    "cv2.imwrite(\"XD.tif\",newMask)"
   ]
  },
  {
   "cell_type": "code",
   "execution_count": null,
   "metadata": {},
   "outputs": [],
   "source": []
  }
 ],
 "metadata": {
  "kernelspec": {
   "display_name": "Python 3",
   "language": "python",
   "name": "python3"
  },
  "language_info": {
   "codemirror_mode": {
    "name": "ipython",
    "version": 3
   },
   "file_extension": ".py",
   "mimetype": "text/x-python",
   "name": "python",
   "nbconvert_exporter": "python",
   "pygments_lexer": "ipython3",
   "version": "3.6.2"
  }
 },
 "nbformat": 4,
 "nbformat_minor": 2
}
