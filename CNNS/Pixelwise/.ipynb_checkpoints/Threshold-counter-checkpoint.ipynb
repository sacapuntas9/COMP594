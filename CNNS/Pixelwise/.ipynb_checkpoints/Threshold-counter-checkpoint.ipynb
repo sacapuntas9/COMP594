{
 "cells": [
  {
   "cell_type": "code",
   "execution_count": 1,
   "metadata": {},
   "outputs": [],
   "source": [
    "\n",
    "import cv2\n",
    "import random, os\n",
    "import numpy as np\n",
    "\n",
    "directorySeparator = \"\\\\\"\n",
    "\n",
    "masks_both_dir = \"E:\\\\594_data\\\\imbalanced_Pixelwise_NN_Data\\\\masks_both\"\n",
    "masks_pericyte_dir = \"E:\\\\594_data\\\\pericyte_NN_Data\\\\masks\" \n",
    "masks_smooth_dir = \"E:\\\\594_data\\\\smoothmuscle_NN_Data\\\\masks\" \n",
    "\n"
   ]
  },
  {
   "cell_type": "code",
   "execution_count": 2,
   "metadata": {},
   "outputs": [],
   "source": [
    "numNoCell = 0\n",
    "numCell = 0\n",
    "\n",
    "numPericyte = 0\n",
    "numSmoothMuscle = 0"
   ]
  },
  {
   "cell_type": "code",
   "execution_count": 3,
   "metadata": {},
   "outputs": [],
   "source": [
    "\n",
    "for filename in os.listdir(masks_both_dir):\n",
    "    if filename.endswith(\".tif\"): \n",
    "        img_both = cv2.imread(masks_both_dir+directorySeparator+filename,-1)\n",
    "\n",
    "        \n",
    "        img_pericyte = cv2.imread(masks_pericyte_dir+directorySeparator+filename,-1)\n",
    "\n",
    "\n",
    "        img_smooth = cv2.imread(masks_smooth_dir+directorySeparator+filename,-1)\n",
    "\n",
    "    \n",
    "        height,width = img_both.shape\n",
    "        \n",
    "        for h in range(int(height)):\n",
    "            for w in range(width):\n",
    "                if img_both[h,w] == 255:\n",
    "                    numCell += 1\n",
    "                else:\n",
    "                    numNoCell += 1\n",
    "                \n",
    "                if img_pericyte[h,w] == 255:\n",
    "                    numPericyte += 1\n",
    "  \n",
    "                if img_smooth[h,w] == 255:\n",
    "                    numSmoothMuscle += 1\n",
    "\n",
    "                \n",
    "        \n",
    "\n"
   ]
  },
  {
   "cell_type": "code",
   "execution_count": 4,
   "metadata": {},
   "outputs": [
    {
     "name": "stdout",
     "output_type": "stream",
     "text": [
      "Number of cell pixels: 110787\n",
      "Number of non-cell pixels: 26365757\n",
      "Number of pericyte pixels: 69342\n",
      "Number of smooth muscle cell pixels: 41445\n"
     ]
    }
   ],
   "source": [
    "print(\"Number of cell pixels: \" + str(numCell))\n",
    "print(\"Number of non-cell pixels: \" + str(numNoCell))\n",
    "\n",
    "print(\"Number of pericyte pixels: \" + str(numPericyte))\n",
    "\n",
    "print(\"Number of smooth muscle cell pixels: \" + str(numSmoothMuscle))"
   ]
  },
  {
   "cell_type": "code",
   "execution_count": null,
   "metadata": {},
   "outputs": [],
   "source": []
  }
 ],
 "metadata": {
  "kernelspec": {
   "display_name": "Python 3",
   "language": "python",
   "name": "python3"
  },
  "language_info": {
   "codemirror_mode": {
    "name": "ipython",
    "version": 3
   },
   "file_extension": ".py",
   "mimetype": "text/x-python",
   "name": "python",
   "nbconvert_exporter": "python",
   "pygments_lexer": "ipython3",
   "version": "3.6.2"
  }
 },
 "nbformat": 4,
 "nbformat_minor": 2
}
