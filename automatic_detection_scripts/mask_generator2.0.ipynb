{
 "cells": [
  {
   "cell_type": "code",
   "execution_count": 1,
   "metadata": {
    "collapsed": true
   },
   "outputs": [],
   "source": [
    "import sys\n",
    "\n",
    "\n",
    "from imutils import contours\n",
    "from skimage import measure\n",
    "from scipy import stats\n",
    "import numpy as np\n",
    "import argparse\n",
    "import imutils\n",
    "import cv2\n",
    "import os\n",
    "import sys\n",
    "import time\n",
    "\n",
    "directorySeparator = '\\\\'\n",
    "\n",
    "\n",
    "inputDir = \"E:\\\\594_data\\\\combined_ground_truth\\\\images\"\n",
    "outputDir = \"E:\\\\594_data\\\\combined_ground_truth\\\\automated_masks\"\n",
    "\n",
    "directory = os.fsencode(inputDir)\n",
    "\n",
    "    "
   ]
  },
  {
   "cell_type": "code",
   "execution_count": null,
   "metadata": {
    "collapsed": true
   },
   "outputs": [],
   "source": [
    "for filename in os.listdir(directory):\n",
    "    file = os.fsdecode(filename)\n",
    "    if file.endswith(\".tif\"): \n",
    "        image = cv2.imread(inputDir + directorySeparator + file, -1)\n",
    "        image = (image/256).astype('uint8') #convert input to 8 bit\n",
    "        \n",
    "        #image = cv2.GaussianBlur(image,(3,3),0)\n",
    "    \n",
    "        #adaptive = cv2.adaptiveThreshold(image,255,cv2.ADAPTIVE_THRESH_GAUSSIAN_C,\\\n",
    "        #    cv2.THRESH_BINARY,15,-2)\n",
    "        \n",
    "        ret1,otsu = cv2.threshold(image,0,255,cv2.THRESH_BINARY+cv2.THRESH_OTSU)\n",
    "        \n",
    "        thresh = otsu\n",
    "        \n",
    "\n",
    "   \n",
    "                \n",
    "            cv2.imwrite(outputDir + directorySeparator + file,circular_contours)"
   ]
  },
  {
   "cell_type": "code",
   "execution_count": null,
   "metadata": {
    "collapsed": true
   },
   "outputs": [],
   "source": []
  }
 ],
 "metadata": {
  "kernelspec": {
   "display_name": "Python 3",
   "language": "python",
   "name": "python3"
  },
  "language_info": {
   "codemirror_mode": {
    "name": "ipython",
    "version": 3
   },
   "file_extension": ".py",
   "mimetype": "text/x-python",
   "name": "python",
   "nbconvert_exporter": "python",
   "pygments_lexer": "ipython3",
   "version": "3.6.2"
  }
 },
 "nbformat": 4,
 "nbformat_minor": 2
}
